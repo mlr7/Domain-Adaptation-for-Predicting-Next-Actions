{
 "cells": [
  {
   "cell_type": "code",
   "execution_count": null,
   "id": "7ee7814e",
   "metadata": {},
   "outputs": [],
   "source": []
  },
  {
   "cell_type": "code",
   "execution_count": 1,
   "id": "501a4359",
   "metadata": {},
   "outputs": [],
   "source": [
    "# jupyter config\n",
    "%matplotlib inline\n",
    "\n",
    "# Data manipulation\n",
    "import numpy as np\n",
    "import pandas as pd\n",
    "\n",
    "# Plotting\n",
    "import matplotlib.pyplot as plt\n",
    "import seaborn as sns\n",
    "\n",
    "# Data prep for ML\n",
    "from sklearn.model_selection import train_test_split\n",
    "from sklearn.preprocessing import StandardScaler\n",
    "\n",
    "# ML algos\n",
    "from sklearn.decomposition import PCA\n",
    "\n",
    "# ML models\n",
    "from sklearn import tree\n",
    "from sklearn.ensemble import RandomForestClassifier\n",
    "from sklearn.ensemble import GradientBoostingClassifier # as skgb\n",
    "import xgboost as xgb\n",
    "\n",
    "# ML model evaluation\n",
    "from sklearn.metrics import accuracy_score, precision_score\n",
    "from sklearn.metrics import recall_score, f1_score, roc_auc_score\n",
    "from sklearn.metrics import confusion_matrix\n"
   ]
  },
  {
   "cell_type": "markdown",
   "id": "ee65807d",
   "metadata": {},
   "source": [
    "### Data ingest"
   ]
  },
  {
   "cell_type": "code",
   "execution_count": 2,
   "id": "4ca0ea3a",
   "metadata": {},
   "outputs": [
    {
     "name": "stdout",
     "output_type": "stream",
     "text": [
      "(12009, 92) (10600, 92)\n",
      "Index(['pitch_type', 'game_date', 'release_speed', 'release_pos_x',\n",
      "       'release_pos_z', 'player_name', 'batter', 'pitcher', 'events',\n",
      "       'description', 'spin_dir', 'spin_rate_deprecated',\n",
      "       'break_angle_deprecated', 'break_length_deprecated', 'zone', 'des',\n",
      "       'game_type', 'stand', 'p_throws', 'home_team', 'away_team', 'type',\n",
      "       'hit_location', 'bb_type', 'balls', 'strikes', 'game_year', 'pfx_x',\n",
      "       'pfx_z', 'plate_x', 'plate_z', 'on_3b', 'on_2b', 'on_1b',\n",
      "       'outs_when_up', 'inning', 'inning_topbot', 'hc_x', 'hc_y',\n",
      "       'tfs_deprecated', 'tfs_zulu_deprecated', 'fielder_2', 'umpire', 'sv_id',\n",
      "       'vx0', 'vy0', 'vz0', 'ax', 'ay', 'az', 'sz_top', 'sz_bot',\n",
      "       'hit_distance_sc', 'launch_speed', 'launch_angle', 'effective_speed',\n",
      "       'release_spin_rate', 'release_extension', 'game_pk', 'pitcher.1',\n",
      "       'fielder_2.1', 'fielder_3', 'fielder_4', 'fielder_5', 'fielder_6',\n",
      "       'fielder_7', 'fielder_8', 'fielder_9', 'release_pos_y',\n",
      "       'estimated_ba_using_speedangle', 'estimated_woba_using_speedangle',\n",
      "       'woba_value', 'woba_denom', 'babip_value', 'iso_value',\n",
      "       'launch_speed_angle', 'at_bat_number', 'pitch_number', 'pitch_name',\n",
      "       'home_score', 'away_score', 'bat_score', 'fld_score', 'post_away_score',\n",
      "       'post_home_score', 'post_bat_score', 'post_fld_score',\n",
      "       'if_fielding_alignment', 'of_fielding_alignment', 'spin_axis',\n",
      "       'delta_home_win_exp', 'delta_run_exp'],\n",
      "      dtype='object')\n",
      "Index(['pitch_type', 'game_date', 'release_speed', 'release_pos_x',\n",
      "       'release_pos_z', 'player_name', 'batter', 'pitcher', 'events',\n",
      "       'description', 'spin_dir', 'spin_rate_deprecated',\n",
      "       'break_angle_deprecated', 'break_length_deprecated', 'zone', 'des',\n",
      "       'game_type', 'stand', 'p_throws', 'home_team', 'away_team', 'type',\n",
      "       'hit_location', 'bb_type', 'balls', 'strikes', 'game_year', 'pfx_x',\n",
      "       'pfx_z', 'plate_x', 'plate_z', 'on_3b', 'on_2b', 'on_1b',\n",
      "       'outs_when_up', 'inning', 'inning_topbot', 'hc_x', 'hc_y',\n",
      "       'tfs_deprecated', 'tfs_zulu_deprecated', 'fielder_2', 'umpire', 'sv_id',\n",
      "       'vx0', 'vy0', 'vz0', 'ax', 'ay', 'az', 'sz_top', 'sz_bot',\n",
      "       'hit_distance_sc', 'launch_speed', 'launch_angle', 'effective_speed',\n",
      "       'release_spin_rate', 'release_extension', 'game_pk', 'pitcher.1',\n",
      "       'fielder_2.1', 'fielder_3', 'fielder_4', 'fielder_5', 'fielder_6',\n",
      "       'fielder_7', 'fielder_8', 'fielder_9', 'release_pos_y',\n",
      "       'estimated_ba_using_speedangle', 'estimated_woba_using_speedangle',\n",
      "       'woba_value', 'woba_denom', 'babip_value', 'iso_value',\n",
      "       'launch_speed_angle', 'at_bat_number', 'pitch_number', 'pitch_name',\n",
      "       'home_score', 'away_score', 'bat_score', 'fld_score', 'post_away_score',\n",
      "       'post_home_score', 'post_bat_score', 'post_fld_score',\n",
      "       'if_fielding_alignment', 'of_fielding_alignment', 'spin_axis',\n",
      "       'delta_home_win_exp', 'delta_run_exp'],\n",
      "      dtype='object')\n"
     ]
    },
    {
     "data": {
      "text/html": [
       "<div>\n",
       "<style scoped>\n",
       "    .dataframe tbody tr th:only-of-type {\n",
       "        vertical-align: middle;\n",
       "    }\n",
       "\n",
       "    .dataframe tbody tr th {\n",
       "        vertical-align: top;\n",
       "    }\n",
       "\n",
       "    .dataframe thead th {\n",
       "        text-align: right;\n",
       "    }\n",
       "</style>\n",
       "<table border=\"1\" class=\"dataframe\">\n",
       "  <thead>\n",
       "    <tr style=\"text-align: right;\">\n",
       "      <th></th>\n",
       "      <th>pitch_type</th>\n",
       "      <th>game_date</th>\n",
       "      <th>release_speed</th>\n",
       "      <th>release_pos_x</th>\n",
       "      <th>release_pos_z</th>\n",
       "      <th>player_name</th>\n",
       "      <th>batter</th>\n",
       "      <th>pitcher</th>\n",
       "      <th>events</th>\n",
       "      <th>description</th>\n",
       "      <th>...</th>\n",
       "      <th>fld_score</th>\n",
       "      <th>post_away_score</th>\n",
       "      <th>post_home_score</th>\n",
       "      <th>post_bat_score</th>\n",
       "      <th>post_fld_score</th>\n",
       "      <th>if_fielding_alignment</th>\n",
       "      <th>of_fielding_alignment</th>\n",
       "      <th>spin_axis</th>\n",
       "      <th>delta_home_win_exp</th>\n",
       "      <th>delta_run_exp</th>\n",
       "    </tr>\n",
       "  </thead>\n",
       "  <tbody>\n",
       "    <tr>\n",
       "      <th>0</th>\n",
       "      <td>SL</td>\n",
       "      <td>2021-10-01</td>\n",
       "      <td>86.2</td>\n",
       "      <td>1.52</td>\n",
       "      <td>6.22</td>\n",
       "      <td>Kershaw, Clayton</td>\n",
       "      <td>543939</td>\n",
       "      <td>477132</td>\n",
       "      <td>double</td>\n",
       "      <td>hit_into_play</td>\n",
       "      <td>...</td>\n",
       "      <td>1</td>\n",
       "      <td>3</td>\n",
       "      <td>1</td>\n",
       "      <td>3</td>\n",
       "      <td>1</td>\n",
       "      <td>Standard</td>\n",
       "      <td>Standard</td>\n",
       "      <td>202.0</td>\n",
       "      <td>-0.097</td>\n",
       "      <td>0.888</td>\n",
       "    </tr>\n",
       "    <tr>\n",
       "      <th>1</th>\n",
       "      <td>FF</td>\n",
       "      <td>2021-10-01</td>\n",
       "      <td>89.1</td>\n",
       "      <td>1.39</td>\n",
       "      <td>6.17</td>\n",
       "      <td>Kershaw, Clayton</td>\n",
       "      <td>543939</td>\n",
       "      <td>477132</td>\n",
       "      <td>NaN</td>\n",
       "      <td>ball</td>\n",
       "      <td>...</td>\n",
       "      <td>1</td>\n",
       "      <td>2</td>\n",
       "      <td>1</td>\n",
       "      <td>2</td>\n",
       "      <td>1</td>\n",
       "      <td>Standard</td>\n",
       "      <td>Standard</td>\n",
       "      <td>183.0</td>\n",
       "      <td>0.000</td>\n",
       "      <td>0.041</td>\n",
       "    </tr>\n",
       "  </tbody>\n",
       "</table>\n",
       "<p>2 rows × 92 columns</p>\n",
       "</div>"
      ],
      "text/plain": [
       "  pitch_type   game_date  release_speed  release_pos_x  release_pos_z  \\\n",
       "0         SL  2021-10-01           86.2           1.52           6.22   \n",
       "1         FF  2021-10-01           89.1           1.39           6.17   \n",
       "\n",
       "        player_name  batter  pitcher  events    description  ...  fld_score  \\\n",
       "0  Kershaw, Clayton  543939   477132  double  hit_into_play  ...          1   \n",
       "1  Kershaw, Clayton  543939   477132     NaN           ball  ...          1   \n",
       "\n",
       "   post_away_score  post_home_score  post_bat_score  post_fld_score  \\\n",
       "0                3                1               3               1   \n",
       "1                2                1               2               1   \n",
       "\n",
       "  if_fielding_alignment of_fielding_alignment spin_axis delta_home_win_exp  \\\n",
       "0              Standard              Standard     202.0             -0.097   \n",
       "1              Standard              Standard     183.0              0.000   \n",
       "\n",
       "  delta_run_exp  \n",
       "0         0.888  \n",
       "1         0.041  \n",
       "\n",
       "[2 rows x 92 columns]"
      ]
     },
     "metadata": {},
     "output_type": "display_data"
    },
    {
     "data": {
      "text/html": [
       "<div>\n",
       "<style scoped>\n",
       "    .dataframe tbody tr th:only-of-type {\n",
       "        vertical-align: middle;\n",
       "    }\n",
       "\n",
       "    .dataframe tbody tr th {\n",
       "        vertical-align: top;\n",
       "    }\n",
       "\n",
       "    .dataframe thead th {\n",
       "        text-align: right;\n",
       "    }\n",
       "</style>\n",
       "<table border=\"1\" class=\"dataframe\">\n",
       "  <thead>\n",
       "    <tr style=\"text-align: right;\">\n",
       "      <th></th>\n",
       "      <th>pitch_type</th>\n",
       "      <th>game_date</th>\n",
       "      <th>release_speed</th>\n",
       "      <th>release_pos_x</th>\n",
       "      <th>release_pos_z</th>\n",
       "      <th>player_name</th>\n",
       "      <th>batter</th>\n",
       "      <th>pitcher</th>\n",
       "      <th>events</th>\n",
       "      <th>description</th>\n",
       "      <th>...</th>\n",
       "      <th>fld_score</th>\n",
       "      <th>post_away_score</th>\n",
       "      <th>post_home_score</th>\n",
       "      <th>post_bat_score</th>\n",
       "      <th>post_fld_score</th>\n",
       "      <th>if_fielding_alignment</th>\n",
       "      <th>of_fielding_alignment</th>\n",
       "      <th>spin_axis</th>\n",
       "      <th>delta_home_win_exp</th>\n",
       "      <th>delta_run_exp</th>\n",
       "    </tr>\n",
       "  </thead>\n",
       "  <tbody>\n",
       "    <tr>\n",
       "      <th>0</th>\n",
       "      <td>FF</td>\n",
       "      <td>2021-10-23</td>\n",
       "      <td>96.1</td>\n",
       "      <td>-0.88</td>\n",
       "      <td>5.74</td>\n",
       "      <td>Buehler, Walker</td>\n",
       "      <td>645277</td>\n",
       "      <td>621111</td>\n",
       "      <td>strikeout</td>\n",
       "      <td>swinging_strike</td>\n",
       "      <td>...</td>\n",
       "      <td>1</td>\n",
       "      <td>1</td>\n",
       "      <td>4</td>\n",
       "      <td>4</td>\n",
       "      <td>1</td>\n",
       "      <td>Infield shift</td>\n",
       "      <td>Standard</td>\n",
       "      <td>202.0</td>\n",
       "      <td>-0.011</td>\n",
       "      <td>-0.138</td>\n",
       "    </tr>\n",
       "    <tr>\n",
       "      <th>1</th>\n",
       "      <td>CH</td>\n",
       "      <td>2021-10-23</td>\n",
       "      <td>91.4</td>\n",
       "      <td>-1.25</td>\n",
       "      <td>5.42</td>\n",
       "      <td>Buehler, Walker</td>\n",
       "      <td>645277</td>\n",
       "      <td>621111</td>\n",
       "      <td>NaN</td>\n",
       "      <td>foul</td>\n",
       "      <td>...</td>\n",
       "      <td>1</td>\n",
       "      <td>1</td>\n",
       "      <td>4</td>\n",
       "      <td>4</td>\n",
       "      <td>1</td>\n",
       "      <td>Infield shift</td>\n",
       "      <td>Standard</td>\n",
       "      <td>232.0</td>\n",
       "      <td>0.000</td>\n",
       "      <td>-0.047</td>\n",
       "    </tr>\n",
       "  </tbody>\n",
       "</table>\n",
       "<p>2 rows × 92 columns</p>\n",
       "</div>"
      ],
      "text/plain": [
       "  pitch_type   game_date  release_speed  release_pos_x  release_pos_z  \\\n",
       "0         FF  2021-10-23           96.1          -0.88           5.74   \n",
       "1         CH  2021-10-23           91.4          -1.25           5.42   \n",
       "\n",
       "       player_name  batter  pitcher     events      description  ...  \\\n",
       "0  Buehler, Walker  645277   621111  strikeout  swinging_strike  ...   \n",
       "1  Buehler, Walker  645277   621111        NaN             foul  ...   \n",
       "\n",
       "   fld_score  post_away_score  post_home_score  post_bat_score  \\\n",
       "0          1                1                4               4   \n",
       "1          1                1                4               4   \n",
       "\n",
       "   post_fld_score if_fielding_alignment of_fielding_alignment spin_axis  \\\n",
       "0               1         Infield shift              Standard     202.0   \n",
       "1               1         Infield shift              Standard     232.0   \n",
       "\n",
       "  delta_home_win_exp delta_run_exp  \n",
       "0             -0.011        -0.138  \n",
       "1              0.000        -0.047  \n",
       "\n",
       "[2 rows x 92 columns]"
      ]
     },
     "metadata": {},
     "output_type": "display_data"
    }
   ],
   "source": [
    "df_k = pd.read_csv('./data/data_kershaw_2017to2021.csv')\n",
    "df_b = pd.read_csv('./data/data_buehler_2017to2021.csv')\n",
    "\n",
    "print(df_k.shape, df_b.shape)\n",
    "print(df_k.columns)\n",
    "print(df_b.columns)\n",
    "display(df_k.head(2))\n",
    "display(df_b.head(2))"
   ]
  },
  {
   "cell_type": "code",
   "execution_count": 3,
   "id": "bf28bf5b",
   "metadata": {},
   "outputs": [
    {
     "data": {
      "text/plain": [
       "FF    4945\n",
       "SL    4600\n",
       "CU    1894\n",
       "CH      68\n",
       "SI      43\n",
       "Name: pitch_type, dtype: int64"
      ]
     },
     "execution_count": 3,
     "metadata": {},
     "output_type": "execute_result"
    }
   ],
   "source": [
    "df_k['pitch_type'].value_counts()"
   ]
  },
  {
   "cell_type": "code",
   "execution_count": 4,
   "id": "58ebeb51",
   "metadata": {},
   "outputs": [
    {
     "data": {
      "text/plain": [
       "FF    4875\n",
       "SL    1401\n",
       "KC    1398\n",
       "FC    1323\n",
       "SI     985\n",
       "CH     289\n",
       "Name: pitch_type, dtype: int64"
      ]
     },
     "execution_count": 4,
     "metadata": {},
     "output_type": "execute_result"
    }
   ],
   "source": [
    "df_b['pitch_type'].value_counts()"
   ]
  },
  {
   "cell_type": "markdown",
   "id": "62b727dd",
   "metadata": {},
   "source": [
    "### Data cleaning"
   ]
  },
  {
   "cell_type": "code",
   "execution_count": 5,
   "id": "6fea69f6",
   "metadata": {},
   "outputs": [],
   "source": [
    "def select_features(df_in, feature_list_in):\n",
    "    \"\"\"\n",
    "        Select a subset of features from which to build a \n",
    "        predictive model.\n",
    "    \"\"\"\n",
    "    df_out = df_in[feature_list_in]\n",
    "    return df_out\n",
    "\n",
    "\n",
    "def remove_nans(df_in, col_list):\n",
    "    \"\"\"\n",
    "        Deletes rows in df_in that contain NaNs in the columns in col_list\n",
    "    \"\"\"\n",
    "    df_out = df_in.dropna(subset=[col_list])\n",
    "    return df_out\n",
    "\n",
    "def select_pitch_type_target(df_in, target_pitch_in):\n",
    "    \"\"\"\n",
    "        Tags the pitch type given in 'target_pitch_in' as '1', \n",
    "        and all other pitch types as '0', in preparation\n",
    "        for binary classification step\n",
    "    \"\"\"\n",
    "    ### turn pitch_type into binary (to start with). Just: is FF or is not:\n",
    "    df_out = df_in.copy()\n",
    "    df_out['pitch_bin'] = 0\n",
    "    # df_out.loc[df_out.pitch_type == 'FF', 'FF_bin'] = 1\n",
    "    df_out.loc[df_out.pitch_type == target_pitch_in, 'pitch_bin'] = 1\n",
    "    return df_out"
   ]
  },
  {
   "cell_type": "code",
   "execution_count": 6,
   "id": "e4a85c7e",
   "metadata": {},
   "outputs": [],
   "source": [
    "# Parameters for data selection\n",
    "feature_list = ['pitch_type', 'balls', 'strikes', 'game_year', \n",
    "                'batter', 'pitch_number', 'at_bat_number', \n",
    "                'home_score','away_score', 'if_fielding_alignment',\n",
    "                'of_fielding_alignment', 'on_3b', 'on_2b', 'on_1b', \n",
    "                'outs_when_up' \n",
    "               ]\n",
    "remove_nans_from_cols = 'pitch_type'\n",
    "target_pitch_class = 'FF' #'CH' #'CU' #'SL' #'FF' #'SL' #'CU' #'FF' #'CU' #'FF'\n",
    "test_size = 0.3\n",
    "nan_strategy = 'fill_zero'"
   ]
  },
  {
   "cell_type": "code",
   "execution_count": 7,
   "id": "19e851dc",
   "metadata": {},
   "outputs": [
    {
     "name": "stdout",
     "output_type": "stream",
     "text": [
      "(12009, 92)\n",
      "(11550, 16)\n"
     ]
    }
   ],
   "source": [
    "print(df_k.shape)\n",
    "df_k = select_features(df_k, feature_list)\n",
    "df_k = remove_nans(df_k, remove_nans_from_cols) ## a hack . . . \n",
    "df_k = select_pitch_type_target(df_k, target_pitch_class)\n",
    "print(df_k.shape)"
   ]
  },
  {
   "cell_type": "code",
   "execution_count": 8,
   "id": "85d98e03",
   "metadata": {},
   "outputs": [
    {
     "name": "stdout",
     "output_type": "stream",
     "text": [
      "(10600, 92)\n",
      "(10271, 16)\n"
     ]
    }
   ],
   "source": [
    "print(df_b.shape)\n",
    "df_b = select_features(df_b, feature_list)\n",
    "df_b = remove_nans(df_b, remove_nans_from_cols) ## a hack . . . \n",
    "df_b = select_pitch_type_target(df_b, target_pitch_class)\n",
    "print(df_b.shape)"
   ]
  },
  {
   "cell_type": "code",
   "execution_count": 9,
   "id": "5abc9552",
   "metadata": {},
   "outputs": [
    {
     "data": {
      "text/plain": [
       "0    6605\n",
       "1    4945\n",
       "Name: pitch_bin, dtype: int64"
      ]
     },
     "execution_count": 9,
     "metadata": {},
     "output_type": "execute_result"
    }
   ],
   "source": [
    "df_k['pitch_bin'].value_counts() #1=FF, 0=Other"
   ]
  },
  {
   "cell_type": "code",
   "execution_count": 10,
   "id": "464a69f1",
   "metadata": {},
   "outputs": [
    {
     "data": {
      "text/plain": [
       "0        SL\n",
       "1        FF\n",
       "2        SL\n",
       "3        SL\n",
       "4        FF\n",
       "         ..\n",
       "12004    FF\n",
       "12005    CU\n",
       "12006    FF\n",
       "12007    FF\n",
       "12008    FF\n",
       "Name: pitch_type, Length: 11550, dtype: object"
      ]
     },
     "execution_count": 10,
     "metadata": {},
     "output_type": "execute_result"
    }
   ],
   "source": [
    "df_k['pitch_type']"
   ]
  },
  {
   "cell_type": "code",
   "execution_count": 11,
   "id": "f20426e3",
   "metadata": {},
   "outputs": [
    {
     "data": {
      "text/plain": [
       "0    5396\n",
       "1    4875\n",
       "Name: pitch_bin, dtype: int64"
      ]
     },
     "execution_count": 11,
     "metadata": {},
     "output_type": "execute_result"
    }
   ],
   "source": [
    "df_b['pitch_bin'].value_counts()"
   ]
  },
  {
   "cell_type": "markdown",
   "id": "ca769c2b",
   "metadata": {},
   "source": [
    "### Prep data for ML"
   ]
  },
  {
   "cell_type": "code",
   "execution_count": 12,
   "id": "82f036e4",
   "metadata": {},
   "outputs": [],
   "source": [
    "## num_train0, num_train1, frac_class1 = calc_class_imbal(y_train)\n",
    "\n",
    "def calc_class_imbal(y_in):\n",
    "    \"\"\"\n",
    "    Insert Function Description\n",
    "    \"\"\"\n",
    "    df_ytrain = pd.DataFrame(y_in)\n",
    "    df_ytrain.columns = ['y']\n",
    "    df_y_0 = df_ytrain[df_ytrain['y'] == 0]\n",
    "    df_y_1 = df_ytrain[df_ytrain['y'] == 1]\n",
    "    num_train0_out = df_y_0.shape[0]\n",
    "    num_train1_out = df_y_1.shape[0]\n",
    "    frac_0 = num_train0_out / num_train1_out\n",
    "    print(\" \")\n",
    "    print('num_train0_out: ', num_train0_out)\n",
    "    print('num_train1_out: ', num_train1_out)\n",
    "    print('frac_0: (num_train0_out / num_train1_out): ', frac_0)\n",
    "    return frac_0\n",
    "\n",
    "def standardize_data(X_train_in, X_test_in):\n",
    "    \"\"\"\n",
    "    Insert Function Description\n",
    "    \"\"\"\n",
    "    sc = StandardScaler()\n",
    "    sc.fit(X_train_in)\n",
    "    X_train_std_out = sc.transform(X_train_in)\n",
    "    X_test_std_out = sc.transform(X_test_in)\n",
    "    return X_train_std_out, X_test_std_out\n",
    "\n",
    "def pca_dim_red(X_train_in, X_test_in):\n",
    "    \n",
    "    pca = PCA(n_components=2)\n",
    "    X_train_pca_out = pca.fit_transform(X_train_in)\n",
    "    pca.fit_transform(X_train_in)\n",
    "    X_test_pca_out = pca.transform(X_test_in)\n",
    "    \n",
    "    return X_train_pca_out, X_test_pca_out\n",
    "\n",
    "def create_X_y_dfs(df_in): \n",
    "    \"\"\"\n",
    "        Hard coded for this specific dataset (generalize later)\n",
    "    \"\"\"\n",
    "    df_y_out = pd.DataFrame(df_in['pitch_bin'])\n",
    "    df_X_out = df_in.drop(columns=['pitch_type', 'pitch_bin'], axis=1)\n",
    "    return df_X_out, df_y_out\n",
    "\n",
    "def create_numeric_and_onehot_features(df_in):\n",
    "    \"\"\"\n",
    "    Insert Function Description\n",
    "    \"\"\"    \n",
    "    df_out = pd.get_dummies(df_in)\n",
    "    return df_out\n",
    "\n",
    "def handle_nans(df_in, nan_strategy_in):\n",
    "    \"\"\"\n",
    "    Insert Function Description\n",
    "    \"\"\"   \n",
    "    df_out = df_in\n",
    "    if (nan_strategy_in == 'fill_zero'):\n",
    "        df_out = df_in.fillna(0)\n",
    "    return df_out\n",
    "\n",
    "def create_ml_data_splits(df_X_in, df_y_in, test_size_in):\n",
    "    \"\"\"\n",
    "    Insert Function Description\n",
    "    \"\"\"\n",
    "    X = df_X_in.values\n",
    "    y = df_y_in.values\n",
    "    X_train_out, X_test_out, y_train_out, y_test_out = train_test_split(X, y, test_size=test_size, \n",
    "                                                                        stratify=y) # random_state=1\n",
    "    return X_train_out, X_test_out, y_train_out, y_test_out"
   ]
  },
  {
   "cell_type": "code",
   "execution_count": 13,
   "id": "8594c136",
   "metadata": {},
   "outputs": [],
   "source": [
    "test_size = 0.3\n",
    "nan_strategy = 'fill_zero'"
   ]
  },
  {
   "cell_type": "code",
   "execution_count": 14,
   "id": "c965b180",
   "metadata": {},
   "outputs": [
    {
     "name": "stdout",
     "output_type": "stream",
     "text": [
      " \n",
      "num_train0_out:  4623\n",
      "num_train1_out:  3462\n",
      "frac_0: (num_train0_out / num_train1_out):  1.3353552859618718\n"
     ]
    }
   ],
   "source": [
    "df_X_k, df_y_k = create_X_y_dfs(df_k)\n",
    "df_X_k = create_numeric_and_onehot_features(df_X_k)\n",
    "df_X_k = handle_nans(df_X_k, nan_strategy)\n",
    "\n",
    "X_train_k, X_test_k, y_train_k, y_test_k = create_ml_data_splits(df_X_k, df_y_k, test_size) \n",
    "frac_class0_k = calc_class_imbal(y_train_k)\n",
    "\n",
    "X_train_std_k, X_test_std_k = standardize_data(X_train_k, X_test_k)\n",
    "X_train_pca_k, X_test_pca_k = pca_dim_red(X_train_std_k, X_test_std_k)"
   ]
  },
  {
   "cell_type": "code",
   "execution_count": 15,
   "id": "84d93105",
   "metadata": {},
   "outputs": [
    {
     "name": "stdout",
     "output_type": "stream",
     "text": [
      " \n",
      "num_train0_out:  3777\n",
      "num_train1_out:  3412\n",
      "frac_0: (num_train0_out / num_train1_out):  1.1069753810082064\n"
     ]
    }
   ],
   "source": [
    "df_X_b, df_y_b = create_X_y_dfs(df_b)\n",
    "df_X_b = create_numeric_and_onehot_features(df_X_b)\n",
    "df_X_b = handle_nans(df_X_b, nan_strategy)\n",
    "\n",
    "X_train_b, X_test_b, y_train_b, y_test_b = create_ml_data_splits(df_X_b, df_y_b, test_size) \n",
    "frac_class0_b = calc_class_imbal(y_train_b)\n",
    "\n",
    "X_train_std_b, X_test_std_b = standardize_data(X_train_b, X_test_b)\n",
    "X_train_pca_b, X_test_pca_b = pca_dim_red(X_train_std_b, X_test_std_b)"
   ]
  },
  {
   "cell_type": "code",
   "execution_count": 16,
   "id": "caf04f81",
   "metadata": {},
   "outputs": [
    {
     "name": "stderr",
     "output_type": "stream",
     "text": [
      "C:\\Users\\m85302\\Anaconda3b\\lib\\site-packages\\sklearn\\utils\\validation.py:63: DataConversionWarning: A column-vector y was passed when a 1d array was expected. Please change the shape of y to (n_samples, ), for example using ravel().\n",
      "  return f(*args, **kwargs)\n"
     ]
    }
   ],
   "source": [
    "#gb_clf = GradientBoostingClassifier(n_estimators=20, learning_rate=learning_rate, max_features=2, max_depth=2, random_state=0)\n",
    "\n",
    "clf_k = GradientBoostingClassifier()\n",
    "clf_k.fit(X_train_k, y_train_k)\n",
    "y_pred_k = clf_k.predict(X_test_k)"
   ]
  },
  {
   "cell_type": "code",
   "execution_count": 17,
   "id": "60615965",
   "metadata": {},
   "outputs": [
    {
     "name": "stderr",
     "output_type": "stream",
     "text": [
      "C:\\Users\\m85302\\Anaconda3b\\lib\\site-packages\\sklearn\\utils\\validation.py:63: DataConversionWarning: A column-vector y was passed when a 1d array was expected. Please change the shape of y to (n_samples, ), for example using ravel().\n",
      "  return f(*args, **kwargs)\n"
     ]
    }
   ],
   "source": [
    "clf_b = GradientBoostingClassifier()\n",
    "clf_b.fit(X_train_b, y_train_b)\n",
    "y_pred_b = clf_b.predict(X_test_b)"
   ]
  },
  {
   "cell_type": "markdown",
   "id": "8fc5c8ed",
   "metadata": {},
   "source": [
    "### Evaluate ML models"
   ]
  },
  {
   "cell_type": "code",
   "execution_count": 18,
   "id": "819aa324",
   "metadata": {},
   "outputs": [],
   "source": [
    "def eval_ml_model(label, y_test_in, y_pred_in):\n",
    "    \"\"\"\n",
    "    Evaluate maching learning (ML) model, binary classification\n",
    "    \"\"\"\n",
    "    print(label)\n",
    "    print(\" \")\n",
    "    \n",
    "    score_accuracy = accuracy_score(y_test_in, y_pred_in)\n",
    "    score_precision = precision_score(y_test_in, y_pred_in)\n",
    "    score_recall = recall_score(y_test_in, y_pred_in)\n",
    "    score_f1 = f1_score(y_test_in, y_pred_in)\n",
    "    score_roc_auc = roc_auc_score(y_test_in, y_pred_in)\n",
    "    score_confmat = confusion_matrix(y_test_in, y_pred_in)\n",
    "    \n",
    "    print('Accuracy: ', score_accuracy)\n",
    "    print('Precision: ', score_precision)\n",
    "    print('Recall: ', score_recall)\n",
    "    print('F1: ', score_f1)\n",
    "    print('ROC_AUC:', score_roc_auc)\n",
    "    print(score_confmat)\n",
    "    viz_confusion_matrix(score_confmat)\n",
    "    print(\" \")"
   ]
  },
  {
   "cell_type": "code",
   "execution_count": 19,
   "id": "35f8f6d7",
   "metadata": {},
   "outputs": [],
   "source": [
    "def viz_confusion_matrix(confmat):\n",
    "    fig, ax = plt.subplots(figsize=(2.5, 2.5))\n",
    "    ax.matshow(confmat, cmap=plt.cm.Blues, alpha=0.3)\n",
    "    for i in range(confmat.shape[0]):\n",
    "        for j in range(confmat.shape[1]):\n",
    "            ax.text(x=j, y=i, s=confmat[i, j], va='center', ha='center')\n",
    "\n",
    "    plt.xlabel('predicted label')\n",
    "    plt.ylabel('true label')\n",
    "\n",
    "    plt.tight_layout()\n",
    "    # plt.savefig('./figures/confusion_matrix.png', dpi=300)\n",
    "    plt.show()"
   ]
  },
  {
   "cell_type": "code",
   "execution_count": 20,
   "id": "72f004db",
   "metadata": {},
   "outputs": [
    {
     "name": "stdout",
     "output_type": "stream",
     "text": [
      "Kershaw, Params: Default, Pitch: FF\n",
      " \n",
      "Accuracy:  0.6756132756132757\n",
      "Precision:  0.6694995278564684\n",
      "Recall:  0.47808496291301417\n",
      "F1:  0.5578284815106216\n",
      "ROC_AUC: 0.650747829589706\n",
      "[[1632  350]\n",
      " [ 774  709]]\n"
     ]
    },
    {
     "data": {
      "image/png": "[encoded data removed]",
      "text/plain": [
       "<Figure size 180x180 with 1 Axes>"
      ]
     },
     "metadata": {
      "needs_background": "light"
     },
     "output_type": "display_data"
    },
    {
     "name": "stdout",
     "output_type": "stream",
     "text": [
      " \n"
     ]
    }
   ],
   "source": [
    "eval_ml_model('Kershaw, Params: Default, Pitch: ' + target_pitch_class, y_test_k, y_pred_k)"
   ]
  },
  {
   "cell_type": "code",
   "execution_count": 21,
   "id": "78db159c",
   "metadata": {},
   "outputs": [
    {
     "name": "stdout",
     "output_type": "stream",
     "text": [
      "Buehler, Params: Default, Pitch: FF\n",
      " \n",
      "Accuracy:  0.6200519143413368\n",
      "Precision:  0.6315315315315315\n",
      "Recall:  0.47915242652084755\n",
      "F1:  0.5448892343567819\n",
      "ROC_AUC: 0.6132636746563472\n",
      "[[1210  409]\n",
      " [ 762  701]]\n"
     ]
    },
    {
     "data": {
      "image/png": "[encoded data removed]",
      "text/plain": [
       "<Figure size 180x180 with 1 Axes>"
      ]
     },
     "metadata": {
      "needs_background": "light"
     },
     "output_type": "display_data"
    },
    {
     "name": "stdout",
     "output_type": "stream",
     "text": [
      " \n"
     ]
    }
   ],
   "source": [
    "eval_ml_model('Buehler, Params: Default, Pitch: ' + target_pitch_class, y_test_b, y_pred_b)"
   ]
  },
  {
   "cell_type": "markdown",
   "id": "fe8d1b3f",
   "metadata": {},
   "source": [
    "Note: the baseline models are are particularly high performers . . . a topic for future research (work on data, approach, etc.)"
   ]
  },
  {
   "cell_type": "markdown",
   "id": "c3610ddf",
   "metadata": {},
   "source": [
    "### Domain switch\n",
    "\n",
    "Predict Buehler's next pitch using a model trained on Kershaw's data"
   ]
  },
  {
   "cell_type": "code",
   "execution_count": 22,
   "id": "db822e7e",
   "metadata": {},
   "outputs": [],
   "source": [
    "y_pred_b_withKersh = clf_k.predict(X_test_b)"
   ]
  },
  {
   "cell_type": "code",
   "execution_count": 23,
   "id": "d8ad8026",
   "metadata": {},
   "outputs": [
    {
     "name": "stdout",
     "output_type": "stream",
     "text": [
      "Buehler w/ Kersh_model, Params: Default, Pitch: FF\n",
      " \n",
      "Accuracy:  0.5791693705386113\n",
      "Precision:  0.5949656750572082\n",
      "Recall:  0.35543403964456594\n",
      "F1:  0.44501497646555405\n",
      "ROC_AUC: 0.5683902749180211\n",
      "[[1265  354]\n",
      " [ 943  520]]\n"
     ]
    },
    {
     "data": {
      "image/png": "[encoded data removed]",
      "text/plain": [
       "<Figure size 180x180 with 1 Axes>"
      ]
     },
     "metadata": {
      "needs_background": "light"
     },
     "output_type": "display_data"
    },
    {
     "name": "stdout",
     "output_type": "stream",
     "text": [
      " \n"
     ]
    }
   ],
   "source": [
    "eval_ml_model('Buehler w/ Kersh_model, Params: Default, Pitch: ' + target_pitch_class, y_test_b, y_pred_b_withKersh)"
   ]
  },
  {
   "cell_type": "markdown",
   "id": "e1f9f476",
   "metadata": {},
   "source": [
    "### Domain adaptation"
   ]
  },
  {
   "cell_type": "code",
   "execution_count": 24,
   "id": "30c1018d",
   "metadata": {},
   "outputs": [],
   "source": [
    "from adapt.instance_based import KLIEP"
   ]
  },
  {
   "cell_type": "code",
   "execution_count": 25,
   "id": "d50ad2f0",
   "metadata": {},
   "outputs": [],
   "source": [
    "model = KLIEP(estimator=clf_k)"
   ]
  },
  {
   "cell_type": "code",
   "execution_count": 26,
   "id": "1b490017",
   "metadata": {},
   "outputs": [
    {
     "name": "stdout",
     "output_type": "stream",
     "text": [
      "Fit weights...\n",
      "Fit Estimator...\n"
     ]
    },
    {
     "data": {
      "text/plain": [
       "KLIEP(estimator=GradientBoostingClassifier())"
      ]
     },
     "execution_count": 26,
     "metadata": {},
     "output_type": "execute_result"
    }
   ],
   "source": [
    "model.fit(X_train_k, y_train_k, X_train_b)"
   ]
  },
  {
   "cell_type": "code",
   "execution_count": 27,
   "id": "0eb9bc04",
   "metadata": {},
   "outputs": [],
   "source": [
    "y_pred_b_kleip = model.predict(X_test_b)"
   ]
  },
  {
   "cell_type": "code",
   "execution_count": 28,
   "id": "d13875e9",
   "metadata": {},
   "outputs": [
    {
     "name": "stdout",
     "output_type": "stream",
     "text": [
      "Buehler w/ adapt_kliep, Params: Default, Pitch: FF\n",
      " \n",
      "Accuracy:  0.5496430889033095\n",
      "Precision:  0.5261324041811847\n",
      "Recall:  0.5160628844839371\n",
      "F1:  0.5210489993098689\n",
      "ROC_AUC: 0.548025265589714\n",
      "[[939 680]\n",
      " [708 755]]\n"
     ]
    },
    {
     "data": {
      "image/png": "[encoded data removed]",
      "text/plain": [
       "<Figure size 180x180 with 1 Axes>"
      ]
     },
     "metadata": {
      "needs_background": "light"
     },
     "output_type": "display_data"
    },
    {
     "name": "stdout",
     "output_type": "stream",
     "text": [
      " \n"
     ]
    }
   ],
   "source": [
    "eval_ml_model('Buehler w/ adapt_kliep, Params: Default, Pitch: ' + target_pitch_class, y_test_b, y_pred_b_kleip)"
   ]
  },
  {
   "cell_type": "markdown",
   "id": "47bea447",
   "metadata": {},
   "source": [
    "In conclusion, we see that both Recall and F1 scores are improved by the domain adaptation step. However, we might expect a larger performance increase for our efforts . . . more research on this strategy is needed! Will return to this soon."
   ]
  },
  {
   "cell_type": "code",
   "execution_count": null,
   "id": "5e5466e8",
   "metadata": {},
   "outputs": [],
   "source": []
  }
 ],
 "metadata": {
  "kernelspec": {
   "display_name": "Python 3 (ipykernel)",
   "language": "python",
   "name": "python3"
  },
  "language_info": {
   "codemirror_mode": {
    "name": "ipython",
    "version": 3
   },
   "file_extension": ".py",
   "mimetype": "text/x-python",
   "name": "python",
   "nbconvert_exporter": "python",
   "pygments_lexer": "ipython3",
   "version": "3.9.7"
  }
 },
 "nbformat": 4,
 "nbformat_minor": 5
}
